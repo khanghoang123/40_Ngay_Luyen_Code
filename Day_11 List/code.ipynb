{
 "cells": [
  {
   "cell_type": "code",
   "execution_count": 25,
   "metadata": {},
   "outputs": [
    {
     "name": "stdout",
     "output_type": "stream",
     "text": [
      "Tôi thích AI thích Toán: [1, 0, 2, 0, 0, 1, 1]\n"
     ]
    }
   ],
   "source": [
    "corpus=['Tôi thích môn Toán','Tôi thích AI','Tôi thích âm nhạc']\n",
    "vector=['Tôi thích AI thích Toán']\n",
    "corpus=list(set(' '.join(corpus).split()))\n",
    "length=len(corpus)\n",
    "sample_vector=[0]*length\n",
    "data=list((' '.join(vector).split()))\n",
    "for word in data:\n",
    "    sample_vector[corpus.index(word)]+=1\n",
    "print('Tôi thích AI thích Toán:',sample_vector)"
   ]
  }
 ],
 "metadata": {
  "kernelspec": {
   "display_name": "base",
   "language": "python",
   "name": "python3"
  },
  "language_info": {
   "codemirror_mode": {
    "name": "ipython",
    "version": 3
   },
   "file_extension": ".py",
   "mimetype": "text/x-python",
   "name": "python",
   "nbconvert_exporter": "python",
   "pygments_lexer": "ipython3",
   "version": "3.11.7"
  }
 },
 "nbformat": 4,
 "nbformat_minor": 2
}
