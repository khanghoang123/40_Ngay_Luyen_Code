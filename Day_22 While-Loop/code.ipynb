{
 "cells": [
  {
   "cell_type": "code",
   "execution_count": 17,
   "metadata": {},
   "outputs": [
    {
     "name": "stdout",
     "output_type": "stream",
     "text": [
      "95\n",
      "3\n",
      "74\n"
     ]
    }
   ],
   "source": [
    "import random\n",
    "def random_number_with_conditon(total):\n",
    "    random.seed(0)\n",
    "    count=0\n",
    "    a,b=0,0\n",
    "    while a+b!=total:\n",
    "        a=random.randrange(1,21)\n",
    "        b=random.randrange(1,21)\n",
    "        count+=1\n",
    "    return count\n",
    "print(random_number_with_conditon(40))\n",
    "print(random_number_with_conditon(20))\n",
    "print(random_number_with_conditon(35))"
   ]
  },
  {
   "cell_type": "code",
   "execution_count": 19,
   "metadata": {},
   "outputs": [
    {
     "name": "stdout",
     "output_type": "stream",
     "text": [
      "105\n",
      "102\n"
     ]
    }
   ],
   "source": [
    "def find_divisible_number(a):\n",
    "    res=101\n",
    "    while res%a!=0:\n",
    "        res+=1\n",
    "    return res\n",
    "print(find_divisible_number(5))\n",
    "print(find_divisible_number(17))"
   ]
  },
  {
   "cell_type": "code",
   "execution_count": 22,
   "metadata": {},
   "outputs": [
    {
     "name": "stdout",
     "output_type": "stream",
     "text": [
      "1.4142135623746899\n",
      "1.7320508100147276\n"
     ]
    }
   ],
   "source": [
    "def f_x(x,a):\n",
    "    return x**2-a\n",
    "def derivative_f_x(x):\n",
    "    return 2*x\n",
    "def find_squared_root(a):\n",
    "    x=a\n",
    "    epsilon=0.001\n",
    "    x_n=x-f_x(x,a)/derivative_f_x(x)\n",
    "    while abs(x_n-x)>=epsilon:\n",
    "        x=x_n\n",
    "        x_n=x-f_x(x,a)/derivative_f_x(x)\n",
    "    return x_n\n",
    "print(find_squared_root(2))\n",
    "print(find_squared_root(3))"
   ]
  }
 ],
 "metadata": {
  "kernelspec": {
   "display_name": "base",
   "language": "python",
   "name": "python3"
  },
  "language_info": {
   "codemirror_mode": {
    "name": "ipython",
    "version": 3
   },
   "file_extension": ".py",
   "mimetype": "text/x-python",
   "name": "python",
   "nbconvert_exporter": "python",
   "pygments_lexer": "ipython3",
   "version": "3.11.7"
  }
 },
 "nbformat": 4,
 "nbformat_minor": 2
}
