{
 "cells": [
  {
   "cell_type": "code",
   "execution_count": 12,
   "metadata": {},
   "outputs": [
    {
     "name": "stdout",
     "output_type": "stream",
     "text": [
      "POS Tagging: [('Công cụ', 'N'), ('Suno', 'Np'), ('AI', 'P'), ('nhanh chóng', 'A'), ('nhận', 'V'), ('được', 'R'), ('sự', 'N'), ('chú ý', 'V'), ('từ', 'E'), ('người', 'N'), ('dùng', 'V'), ('khi', 'N'), ('có thể', 'R'), ('tạo', 'V'), ('bài', 'N'), ('hát', 'V'), ('chỉ', 'R'), ('với', 'E'), ('vài', 'L'), ('câu', 'N'), ('lệnh', 'N'), ('.', 'CH'), ('Phiên bản', 'V'), ('mới', 'A'), ('nhất', 'A'), ('V3 Alpha', 'Np'), ('mới', 'R'), ('được', 'V'), ('giới thiệu', 'V'), ('cuối', 'N'), ('tháng', 'N'), ('2', 'M'), (',', 'CH'), ('có', 'V'), ('bản', 'N'), ('miễn phí', 'V'), ('với', 'E'), ('10', 'M'), ('bài', 'N'), ('hát', 'V'), ('mỗi', 'L'), ('ngày', 'N'), ('.', 'CH')]\n",
      "Text Classification: ['vi_tinh']\n",
      "Sentiment Analysis: positive\n",
      "Sentence Segmentation: ['Công cụ Suno AI nhanh chóng nhận được sự chú ý từ người dùng khi có thể tạo bài hát chỉ với vài câu lệnh.', 'Phiên bản mới nhất V3 Alpha mới được giới thiệu cuối tháng 2, có bản miễn phí với 10 bài hát mỗi ngày.']\n",
      "Word Segmentation: ['Công cụ', 'Suno', 'AI', 'nhanh chóng', 'nhận', 'được', 'sự', 'chú ý', 'từ', 'người', 'dùng', 'khi', 'có thể', 'tạo', 'bài', 'hát', 'chỉ', 'với', 'vài', 'câu', 'lệnh', '.', 'Phiên bản', 'mới', 'nhất', 'V3 Alpha', 'mới', 'được', 'giới thiệu', 'cuối', 'tháng', '2', ',', 'có', 'bản', 'miễn phí', 'với', '10', 'bài', 'hát', 'mỗi', 'ngày', '.']\n"
     ]
    }
   ],
   "source": [
    "from underthesea import pos_tag,classify,sentiment,sent_tokenize,word_tokenize\n",
    "text='Công cụ Suno AI nhanh chóng nhận được sự chú ý từ người dùng khi có thể tạo bài hát chỉ với vài câu lệnh. Phiên bản mới nhất V3 Alpha mới được giới thiệu cuối tháng 2, có bản miễn phí với 10 bài hát mỗi ngày.'\n",
    "print('POS Tagging:',pos_tag(text))\n",
    "print('Text Classification:',classify(text))\n",
    "print('Sentiment Analysis:',sentiment(text))\n",
    "print('Sentence Segmentation:',sent_tokenize(text))\n",
    "print('Word Segmentation:',word_tokenize(text))"
   ]
  }
 ],
 "metadata": {
  "kernelspec": {
   "display_name": "base",
   "language": "python",
   "name": "python3"
  },
  "language_info": {
   "codemirror_mode": {
    "name": "ipython",
    "version": 3
   },
   "file_extension": ".py",
   "mimetype": "text/x-python",
   "name": "python",
   "nbconvert_exporter": "python",
   "pygments_lexer": "ipython3",
   "version": "3.11.7"
  }
 },
 "nbformat": 4,
 "nbformat_minor": 2
}
