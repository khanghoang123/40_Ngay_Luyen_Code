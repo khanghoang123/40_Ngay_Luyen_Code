{
 "cells": [
  {
   "cell_type": "markdown",
   "metadata": {},
   "source": [
    "Câu 1:"
   ]
  },
  {
   "cell_type": "code",
   "execution_count": 11,
   "metadata": {},
   "outputs": [
    {
     "name": "stdout",
     "output_type": "stream",
     "text": [
      "[0 1 2 3 4 5 6 7 8 9]\n"
     ]
    }
   ],
   "source": [
    "# Numpy code\n",
    "import numpy as np\n",
    "arr_arange=np.arange(10)\n",
    "print(arr_arange)"
   ]
  },
  {
   "cell_type": "code",
   "execution_count": 9,
   "metadata": {},
   "outputs": [
    {
     "name": "stdout",
     "output_type": "stream",
     "text": [
      "tensor([0, 1, 2, 3, 4, 5, 6, 7, 8, 9])\n"
     ]
    }
   ],
   "source": [
    "# Pytorch code\n",
    "import torch\n",
    "tensor_arange=torch.arange(10)\n",
    "print(tensor_arange)"
   ]
  },
  {
   "cell_type": "code",
   "execution_count": 12,
   "metadata": {},
   "outputs": [
    {
     "name": "stdout",
     "output_type": "stream",
     "text": [
      "tf.Tensor([0 1 2 3 4 5 6 7 8 9], shape=(10,), dtype=int32)\n"
     ]
    }
   ],
   "source": [
    "# TensorFlow code\n",
    "import tensorflow as tf\n",
    "tensor_arange=tf.range(10)\n",
    "print(tensor_arange)"
   ]
  },
  {
   "cell_type": "markdown",
   "metadata": {},
   "source": [
    "Câu 2:"
   ]
  },
  {
   "cell_type": "code",
   "execution_count": 14,
   "metadata": {},
   "outputs": [
    {
     "name": "stdout",
     "output_type": "stream",
     "text": [
      "[[1. 0. 0.]\n",
      " [0. 1. 0.]\n",
      " [0. 0. 1.]]\n"
     ]
    }
   ],
   "source": [
    "# Numpy code\n",
    "arr_eye=np.eye(3,3)\n",
    "print(arr_eye)"
   ]
  },
  {
   "cell_type": "code",
   "execution_count": 15,
   "metadata": {},
   "outputs": [
    {
     "name": "stdout",
     "output_type": "stream",
     "text": [
      "tensor([[1., 0., 0.],\n",
      "        [0., 1., 0.],\n",
      "        [0., 0., 1.]])\n"
     ]
    }
   ],
   "source": [
    "# Pytorch ode\n",
    "tensor_eye=torch.eye(3,3)\n",
    "print(tensor_eye)"
   ]
  },
  {
   "cell_type": "code",
   "execution_count": 16,
   "metadata": {},
   "outputs": [
    {
     "name": "stdout",
     "output_type": "stream",
     "text": [
      "tf.Tensor(\n",
      "[[1. 0. 0.]\n",
      " [0. 1. 0.]\n",
      " [0. 0. 1.]], shape=(3, 3), dtype=float32)\n"
     ]
    }
   ],
   "source": [
    "# TensorFlow code\n",
    "tensor_eye=tf.eye(3,3)\n",
    "print(tensor_eye)"
   ]
  },
  {
   "cell_type": "markdown",
   "metadata": {},
   "source": [
    "Câu 3:"
   ]
  },
  {
   "cell_type": "code",
   "execution_count": 42,
   "metadata": {},
   "outputs": [
    {
     "name": "stdout",
     "output_type": "stream",
     "text": [
      "Mảng ngẫu nhiên trong khoảng [0,1):\n",
      " [[0.58801452 0.69910875 0.18815196 0.04380856]\n",
      " [0.20501895 0.10606287 0.72724014 0.67940052]\n",
      " [0.4738457  0.44829582 0.01910695 0.75259834]]\n",
      "\n",
      "Mảng ngẫu nhiên trong khoảng [-10,10):\n",
      " [[ 5  1 -3  8]\n",
      " [-1 -4  0 -9]\n",
      " [-5  9 -6 -2]]\n"
     ]
    }
   ],
   "source": [
    "# Numpy code\n",
    "np.random.seed(2024)\n",
    "arr_rand=np.random.rand(3,4)\n",
    "print('Mảng ngẫu nhiên trong khoảng [0,1):\\n',arr_rand)\n",
    "print()\n",
    "arr_randint=np.random.randint(-10,10,size=(3,4))\n",
    "print('Mảng ngẫu nhiên trong khoảng [-10,10):\\n',arr_randint)"
   ]
  },
  {
   "cell_type": "markdown",
   "metadata": {},
   "source": []
  },
  {
   "cell_type": "code",
   "execution_count": 55,
   "metadata": {},
   "outputs": [
    {
     "name": "stdout",
     "output_type": "stream",
     "text": [
      "Tensor ngẫu nhiên trong khoảng [0,1):\n",
      " tensor([[0.5317, 0.8313, 0.9718, 0.1193],\n",
      "        [0.1669, 0.3495, 0.2150, 0.6201],\n",
      "        [0.4849, 0.7492, 0.1521, 0.5625]])\n",
      "\n",
      "Tensor ngẫu nhiên trong khoảng [-10,10):\n",
      " tensor([[  1,   8,   0,  -2],\n",
      "        [ -9, -10,  -9,   0],\n",
      "        [ -3,  -7,  -4,   8]])\n"
     ]
    }
   ],
   "source": [
    "# Pytorch code\n",
    "torch.manual_seed(2024)\n",
    "tensor_rand=torch.rand(3,4)\n",
    "print('Tensor ngẫu nhiên trong khoảng [0,1):\\n',tensor_rand)\n",
    "print()\n",
    "tensor_randint=torch.randint(-10,10,size=(3,4))\n",
    "print('Tensor ngẫu nhiên trong khoảng [-10,10):\\n',tensor_randint)"
   ]
  },
  {
   "cell_type": "code",
   "execution_count": 54,
   "metadata": {},
   "outputs": [
    {
     "name": "stdout",
     "output_type": "stream",
     "text": [
      "Tensor ngẫu nhiên trong khoảng [0,1):\n",
      " tf.Tensor(\n",
      "[[0.90034294 0.19453335 0.36069036 0.66361904]\n",
      " [0.76605344 0.2159369  0.6261736  0.07380784]\n",
      " [0.22062695 0.934368   0.93327904 0.69267046]], shape=(3, 4), dtype=float32)\n",
      "\n",
      "Tensor ngẫu nhiên trong khoảng [-10,10):\n",
      " tf.Tensor(\n",
      "[[-3 -7  9  3]\n",
      " [ 2 -5 -3 -5]\n",
      " [ 4 -3 -3  5]], shape=(3, 4), dtype=int32)\n"
     ]
    }
   ],
   "source": [
    "# TensorFlow code\n",
    "tf.random.set_seed(2024)\n",
    "tensor_rand=tf.random.uniform((3,4))\n",
    "print('Tensor ngẫu nhiên trong khoảng [0,1):\\n',tensor_rand)\n",
    "print()\n",
    "tensor_randint=tf.random.uniform((3,4),minval=-10,maxval=10,dtype=tf.dtypes.int32)\n",
    "print('Tensor ngẫu nhiên trong khoảng [-10,10):\\n',tensor_randint)\n"
   ]
  }
 ],
 "metadata": {
  "kernelspec": {
   "display_name": "base",
   "language": "python",
   "name": "python3"
  },
  "language_info": {
   "codemirror_mode": {
    "name": "ipython",
    "version": 3
   },
   "file_extension": ".py",
   "mimetype": "text/x-python",
   "name": "python",
   "nbconvert_exporter": "python",
   "pygments_lexer": "ipython3",
   "version": "3.11.7"
  }
 },
 "nbformat": 4,
 "nbformat_minor": 2
}
