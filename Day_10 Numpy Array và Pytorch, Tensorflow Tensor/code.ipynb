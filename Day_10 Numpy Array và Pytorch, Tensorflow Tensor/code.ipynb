{
 "cells": [
  {
   "cell_type": "markdown",
   "metadata": {},
   "source": [
    "DANH SÁCH 1 CHIỀU"
   ]
  },
  {
   "cell_type": "code",
   "execution_count": 1,
   "metadata": {},
   "outputs": [
    {
     "name": "stdout",
     "output_type": "stream",
     "text": [
      "Mảng 1 chiều của Numpy:\n",
      "[1 2 3 4 5 6 7 8 9]\n",
      "<class 'numpy.ndarray'>\n",
      "\n",
      "Tensor Pytorch 1 chiều:\n",
      "[1 2 3 4 5 6 7 8 9]\n",
      "<class 'numpy.ndarray'>\n",
      "\n",
      "Tensor Tensorflow 1 chiều:\n",
      "[1 2 3 4 5 6 7 8 9]\n",
      "<class 'numpy.ndarray'>\n"
     ]
    }
   ],
   "source": [
    "import numpy as np\n",
    "import torch\n",
    "import tensorflow as tf\n",
    "\n",
    "list_1D=[1,2,3,4,5,6,7,8,9]\n",
    "\n",
    "arr_1D=np.array(list_1D)\n",
    "\n",
    "tensor_1D_pt=torch.tensor(list_1D)\n",
    "\n",
    "tensor_1D_tf=tf.convert_to_tensor(list_1D)\n",
    "\n",
    "print(\"Mảng 1 chiều của Numpy:\",arr_1D,type(arr_1D),sep='\\n')\n",
    "print()\n",
    "print(\"Tensor Pytorch 1 chiều:\",arr_1D,type(arr_1D),sep='\\n',end='\\n')\n",
    "print()\n",
    "print(\"Tensor Tensorflow 1 chiều:\",arr_1D,type(arr_1D),sep='\\n')"
   ]
  },
  {
   "cell_type": "markdown",
   "metadata": {},
   "source": [
    "DANH SÁCH 2 CHIỀU"
   ]
  },
  {
   "cell_type": "code",
   "execution_count": 2,
   "metadata": {},
   "outputs": [
    {
     "name": "stdout",
     "output_type": "stream",
     "text": [
      "Hình dạng của mảng 2 chiều: (3, 3)\n",
      "\n",
      "Kiểu dữ liệu của mảng: int32\n",
      "\n",
      "Loại của mảng: <class 'numpy.ndarray'>\n",
      "\n",
      "Mảng:\n",
      " [[1 2 3]\n",
      " [4 5 6]\n",
      " [7 8 9]]\n",
      "\n"
     ]
    }
   ],
   "source": [
    "list_2D=[[1,2,3],[4,5,6],[7,8,9]]\n",
    "arr_2D=np.array(list_2D)\n",
    "tensor_2D_pt=torch.tensor(list_2D)\n",
    "tensor_2D_tf=tf.convert_to_tensor(list_2D)  \n",
    "# Numpy\n",
    "print('Hình dạng của mảng 2 chiều:',arr_2D.shape)\n",
    "print()\n",
    "print('Kiểu dữ liệu của mảng:',arr_2D.dtype)\n",
    "print()\n",
    "print('Loại của mảng:',type(arr_2D))\n",
    "print()\n",
    "print('Mảng:\\n',(arr_2D))\n",
    "print()"
   ]
  },
  {
   "cell_type": "code",
   "execution_count": 3,
   "metadata": {},
   "outputs": [
    {
     "name": "stdout",
     "output_type": "stream",
     "text": [
      "Hình dạng của tensor 2 chiều: torch.Size([3, 3])\n",
      "\n",
      "Kiểu dữ liệu của tensor 2 chiều: torch.int64\n",
      "\n",
      "Loại của tensor 2 chiều: <class 'torch.Tensor'>\n",
      "\n",
      "Thiết bị lữu trữ của tensor: cpu\n",
      "\n",
      "Tensor:\n",
      " [[1 2 3]\n",
      " [4 5 6]\n",
      " [7 8 9]]\n"
     ]
    }
   ],
   "source": [
    "# Pytorch\n",
    "print('Hình dạng của tensor 2 chiều:',tensor_2D_pt.shape)\n",
    "print()\n",
    "print('Kiểu dữ liệu của tensor 2 chiều:',tensor_2D_pt.dtype)\n",
    "print()\n",
    "print('Loại của tensor 2 chiều:',type(tensor_2D_pt))\n",
    "print()\n",
    "print('Thiết bị lữu trữ của tensor:',tensor_2D_pt.device)\n",
    "print()\n",
    "print('Tensor:\\n',(arr_2D))"
   ]
  },
  {
   "cell_type": "code",
   "execution_count": 4,
   "metadata": {},
   "outputs": [
    {
     "name": "stdout",
     "output_type": "stream",
     "text": [
      "Hình dạng của tensor 2 chiều: (3, 3)\n",
      "\n",
      "Kiểu dữ liệu của tensor: <dtype: 'int32'>\n",
      "\n",
      "Loại của tensor 2 chiều: <class 'tensorflow.python.framework.ops.EagerTensor'>\n",
      "\n",
      "Thiết bị lữu trữ của tensor: /job:localhost/replica:0/task:0/device:CPU:0\n",
      "\n",
      "Tensor:\n",
      " tf.Tensor(\n",
      "[[1 2 3]\n",
      " [4 5 6]\n",
      " [7 8 9]], shape=(3, 3), dtype=int32)\n"
     ]
    }
   ],
   "source": [
    "# Tensorflow\n",
    "print('Hình dạng của tensor 2 chiều:',tensor_2D_tf.shape)\n",
    "print()\n",
    "print('Kiểu dữ liệu của tensor:',tensor_2D_tf.dtype)\n",
    "print()\n",
    "print('Loại của tensor 2 chiều:',type(tensor_2D_tf))\n",
    "print()\n",
    "print('Thiết bị lữu trữ của tensor:',tensor_2D_tf.device)\n",
    "print()\n",
    "print('Tensor:\\n',(tensor_2D_tf))"
   ]
  }
 ],
 "metadata": {
  "kernelspec": {
   "display_name": "base",
   "language": "python",
   "name": "python3"
  },
  "language_info": {
   "codemirror_mode": {
    "name": "ipython",
    "version": 3
   },
   "file_extension": ".py",
   "mimetype": "text/x-python",
   "name": "python",
   "nbconvert_exporter": "python",
   "pygments_lexer": "ipython3",
   "version": "3.11.7"
  }
 },
 "nbformat": 4,
 "nbformat_minor": 2
}
