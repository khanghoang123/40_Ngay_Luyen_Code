{
 "cells": [
  {
   "cell_type": "code",
   "execution_count": 13,
   "metadata": {},
   "outputs": [
    {
     "name": "stdout",
     "output_type": "stream",
     "text": [
      "The Suno AI tool quickly gets users' attention when it is possible to create a song with just a few commands. The latest version of V3 Alpha was just introduced at the end of February, there is a free version with 10 songs per day.\n"
     ]
    }
   ],
   "source": [
    "from translate import Translator\n",
    "\n",
    "translator=Translator(from_lang='vi', to_lang='en')\n",
    "translation=translator.translate('Công cụ Suno AI nhanh chóng nhận được sự chú ý từ người dùng khi có thể tạo bài hát chỉ với vài câu lệnh. Phiên bản mới nhất V3 Alpha mới được giới thiệu cuối tháng 2, có bản miễn phí với 10 bài hát mỗi ngày.')\n",
    "print(translation)"
   ]
  },
  {
   "cell_type": "code",
   "execution_count": 15,
   "metadata": {},
   "outputs": [
    {
     "name": "stdout",
     "output_type": "stream",
     "text": [
      "Translated(src=vi, dest=ja, text=Suno AIツールは、ユーザーがいくつかのステートメントで曲を作成できる場合、ユーザーからすぐに注目を集めます。V3 Alphaの最新バージョンは2月末に紹介され、1日10曲の無料バージョンがありました。, pronunciation=Suno AI tsūru wa, yūzā ga ikutsu ka no sutētomento de kyoku o sakusei dekiru baai, yūzā kara sugu ni chūmoku o atsumemasu. V 3 Alpha no saishin bājon wa 2 getsumatsu ni shōkai sa re, 1-nichi 10-kyoku no muryō bājon ga arimashita., extra_data=\"{'confiden...\")\n"
     ]
    }
   ],
   "source": [
    "from googletrans import Translator\n",
    "\n",
    "translate=Translator()\n",
    "result=translate.translate('Công cụ Suno AI nhanh chóng nhận được sự chú ý từ người dùng khi có thể tạo bài hát chỉ với vài câu lệnh. Phiên bản mới nhất V3 Alpha mới được giới thiệu cuối tháng 2, có bản miễn phí với 10 bài hát mỗi ngày.',dest='ja')\n",
    "print(result)\n"
   ]
  }
 ],
 "metadata": {
  "kernelspec": {
   "display_name": "base",
   "language": "python",
   "name": "python3"
  },
  "language_info": {
   "codemirror_mode": {
    "name": "ipython",
    "version": 3
   },
   "file_extension": ".py",
   "mimetype": "text/x-python",
   "name": "python",
   "nbconvert_exporter": "python",
   "pygments_lexer": "ipython3",
   "version": "3.11.7"
  }
 },
 "nbformat": 4,
 "nbformat_minor": 2
}
