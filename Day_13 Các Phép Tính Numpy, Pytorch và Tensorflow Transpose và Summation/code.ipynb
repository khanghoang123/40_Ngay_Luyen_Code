{
 "cells": [
  {
   "cell_type": "code",
   "execution_count": 15,
   "metadata": {},
   "outputs": [
    {
     "name": "stdout",
     "output_type": "stream",
     "text": [
      "Vị trí None đầu tiên: 2 - Danh sách vị trí có giá trị None: [2, 4, 6]\n"
     ]
    }
   ],
   "source": [
    "lst_data=[1,1.1,None,1.4,None,1.5,None,2.0]\n",
    "lst_data=[i for i,x in enumerate(lst_data) if x is None]\n",
    "print(f'Vị trí None đầu tiên: {lst_data[0]} - Danh sách vị trí có giá trị None: {lst_data}')"
   ]
  }
 ],
 "metadata": {
  "kernelspec": {
   "display_name": "base",
   "language": "python",
   "name": "python3"
  },
  "language_info": {
   "codemirror_mode": {
    "name": "ipython",
    "version": 3
   },
   "file_extension": ".py",
   "mimetype": "text/x-python",
   "name": "python",
   "nbconvert_exporter": "python",
   "pygments_lexer": "ipython3",
   "version": "3.11.7"
  }
 },
 "nbformat": 4,
 "nbformat_minor": 2
}
