{
 "cells": [
  {
   "cell_type": "markdown",
   "metadata": {},
   "source": [
    "Cách 1:"
   ]
  },
  {
   "cell_type": "code",
   "execution_count": null,
   "metadata": {},
   "outputs": [],
   "source": [
    "lst_data=[x for x in range(1,13) if x%2==0]\n",
    "print(lst_data)\n",
    "for x in lst_data:\n",
    "    if x%3==0:\n",
    "        lst_data.remove(x)\n",
    "print(lst_data)\n",
    "lst_data.extend(x for x in range(1,4))\n",
    "for i in range(8,5,-1):\n",
    "    lst_data.insert(3,i)\n",
    "print(lst_data)\n",
    "lst_data=[x if x%2!=0 and x%5!=0 else 0 for x in lst_data]\n",
    "print(lst_data)"
   ]
  },
  {
   "cell_type": "markdown",
   "metadata": {},
   "source": [
    "Cách 2:"
   ]
  },
  {
   "cell_type": "code",
   "execution_count": 20,
   "metadata": {},
   "outputs": [
    {
     "name": "stdout",
     "output_type": "stream",
     "text": [
      "[2, 4, 6, 8, 10, 12]\n",
      "[2, 4, 8, 10]\n",
      "[2, 4, 8, 6, 7, 8, 1, 2, 3]\n",
      "[0, 0, 0, 0, 7, 0, 1, 0, 3]\n"
     ]
    }
   ],
   "source": [
    "lst_data=[x for x in range(2,13,2)]\n",
    "print(lst_data)\n",
    "lst_data=[x for x in lst_data if x%3!=0]\n",
    "print(lst_data)\n",
    "lst_data[3:3],lst_data[-1:]=[x for x in range(6,9)],[x for x in range(1,4)]\n",
    "print(lst_data)\n",
    "lst_data=[0 if x%2==0 or x%5==0 else x for x in lst_data]\n",
    "print(lst_data)"
   ]
  }
 ],
 "metadata": {
  "kernelspec": {
   "display_name": "base",
   "language": "python",
   "name": "python3"
  },
  "language_info": {
   "codemirror_mode": {
    "name": "ipython",
    "version": 3
   },
   "file_extension": ".py",
   "mimetype": "text/x-python",
   "name": "python",
   "nbconvert_exporter": "python",
   "pygments_lexer": "ipython3",
   "version": "3.11.7"
  }
 },
 "nbformat": 4,
 "nbformat_minor": 2
}
