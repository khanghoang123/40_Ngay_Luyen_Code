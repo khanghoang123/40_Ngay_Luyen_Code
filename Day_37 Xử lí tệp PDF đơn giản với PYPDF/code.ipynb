{
 "cells": [
  {
   "cell_type": "markdown",
   "metadata": {},
   "source": [
    "1. Trích xuất văn bản từ pdf"
   ]
  },
  {
   "cell_type": "code",
   "execution_count": null,
   "metadata": {},
   "outputs": [],
   "source": [
    "from pypdf import PdfReader\n",
    "# Đọc file PDF\n",
    "reader=PdfReader('yolov9.pdf')\n",
    "# Lấy số trang\n",
    "num_pages=len(reader.pages)\n",
    "# Lấy nội dung trang đầu tiên\n",
    "page_1=reader.pages[0]\n",
    "page_1_txt=page_1.extract_text()\n",
    "\n",
    "# Lấy nội dung toàn bộ các trang\n",
    "page_txt=''\n",
    "for i in range(num_pages):\n",
    "    page=reader.pages[i]\n",
    "    page_txt += page.extract_text()+'\\n'\n",
    "print(page_txt)\n",
    "    "
   ]
  },
  {
   "cell_type": "markdown",
   "metadata": {},
   "source": [
    "2. Trích xuất hình ảnh từ pdf"
   ]
  },
  {
   "cell_type": "code",
   "execution_count": null,
   "metadata": {},
   "outputs": [],
   "source": [
    "count=0\n",
    "for page in reader.pages:\n",
    "    for image_file_object in page.images:\n",
    "        with open(str(count)+image_file_object.name,\"wb\") as fp:\n",
    "            fp.write(image_file_object.data)\n",
    "            count+=1"
   ]
  },
  {
   "cell_type": "markdown",
   "metadata": {},
   "source": [
    "3. Nối các file pdf"
   ]
  },
  {
   "cell_type": "code",
   "execution_count": 13,
   "metadata": {},
   "outputs": [],
   "source": [
    "from pypdf import PdfWriter\n",
    "merger=PdfWriter()\n",
    "for pdf in ['yolov6.pdf','yolov7.pdf','yolov9.pdf']:\n",
    "    merger.append(pdf)\n",
    "merger.write('merged-yolov-679.pdf')\n",
    "merger.close()"
   ]
  },
  {
   "cell_type": "markdown",
   "metadata": {},
   "source": [
    "4. Nén file pdf"
   ]
  },
  {
   "cell_type": "code",
   "execution_count": 14,
   "metadata": {},
   "outputs": [],
   "source": [
    "writer = PdfWriter(clone_from='yolov9.pdf')\n",
    "for page in writer.pages:\n",
    "    page.compress_content_streams(level=8)\n",
    "with open('out.pdf','wb') as f :\n",
    "    writer.write(f)"
   ]
  }
 ],
 "metadata": {
  "kernelspec": {
   "display_name": "base",
   "language": "python",
   "name": "python3"
  },
  "language_info": {
   "codemirror_mode": {
    "name": "ipython",
    "version": 3
   },
   "file_extension": ".py",
   "mimetype": "text/x-python",
   "name": "python",
   "nbconvert_exporter": "python",
   "pygments_lexer": "ipython3",
   "version": "3.11.7"
  }
 },
 "nbformat": 4,
 "nbformat_minor": 2
}
