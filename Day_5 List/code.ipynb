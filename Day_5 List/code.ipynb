{
 "cells": [
  {
   "cell_type": "code",
   "execution_count": 9,
   "metadata": {},
   "outputs": [
    {
     "name": "stdout",
     "output_type": "stream",
     "text": [
      "1, 2, 3, 4, 5\n",
      "1, 3, 5, 7, 9\n",
      "55\n"
     ]
    }
   ],
   "source": [
    "lst_data=[x for x in range(1,11)]\n",
    "print(', '.join([str(x) for x in lst_data[:5]]))\n",
    "print(', '.join([str(x) for x in lst_data if x%2!=0]))\n",
    "print(sum(lst_data))\n"
   ]
  }
 ],
 "metadata": {
  "kernelspec": {
   "display_name": "base",
   "language": "python",
   "name": "python3"
  },
  "language_info": {
   "codemirror_mode": {
    "name": "ipython",
    "version": 3
   },
   "file_extension": ".py",
   "mimetype": "text/x-python",
   "name": "python",
   "nbconvert_exporter": "python",
   "pygments_lexer": "ipython3",
   "version": "3.11.7"
  }
 },
 "nbformat": 4,
 "nbformat_minor": 2
}
