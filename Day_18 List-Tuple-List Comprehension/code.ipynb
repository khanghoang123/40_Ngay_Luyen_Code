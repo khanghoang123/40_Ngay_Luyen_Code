{
 "cells": [
  {
   "cell_type": "markdown",
   "metadata": {},
   "source": [
    "Bài 1:"
   ]
  },
  {
   "cell_type": "code",
   "execution_count": 13,
   "metadata": {},
   "outputs": [
    {
     "name": "stdout",
     "output_type": "stream",
     "text": [
      "['AI', 'listen', 'music']\n",
      "['I', 'love', 'AI', 'and', 'listen', 'to', 'music']\n"
     ]
    }
   ],
   "source": [
    "stop_words=['I','love','and','to']\n",
    "input= 'I love AI and listen to music'\n",
    "output=[word for word in input.split() if word not in stop_words]\n",
    "print(output)"
   ]
  },
  {
   "cell_type": "markdown",
   "metadata": {},
   "source": [
    "Bài 2:"
   ]
  },
  {
   "cell_type": "code",
   "execution_count": 19,
   "metadata": {},
   "outputs": [],
   "source": [
    "# Câu 1:\n",
    "my_tuple1=(2,3)\n",
    "my_tuple2=(3,6)\n"
   ]
  },
  {
   "cell_type": "code",
   "execution_count": 20,
   "metadata": {},
   "outputs": [
    {
     "name": "stdout",
     "output_type": "stream",
     "text": [
      "Result_vector1=(5,6), Result_vector2=(9,18)\n"
     ]
    }
   ],
   "source": [
    "# Câu 2:\n",
    "print(f'Result_vector1=({my_tuple1[0]+my_tuple1[1]},{my_tuple1[0]*my_tuple1[1]})',end=', ')\n",
    "print(f'Result_vector2=({my_tuple2[0]+my_tuple2[1]},{my_tuple2[0]*my_tuple2[1]})')"
   ]
  },
  {
   "cell_type": "code",
   "execution_count": 24,
   "metadata": {},
   "outputs": [
    {
     "name": "stdout",
     "output_type": "stream",
     "text": [
      "3.1622776601683795\n"
     ]
    }
   ],
   "source": [
    "# Câu 3:\n",
    "from math import*\n",
    "dis=0.0\n",
    "for i in range(len(my_tuple1)):\n",
    "    dis+=(my_tuple2[i]-my_tuple1[i])**2\n",
    "print(sqrt(dis))"
   ]
  },
  {
   "cell_type": "code",
   "execution_count": 27,
   "metadata": {},
   "outputs": [
    {
     "name": "stdout",
     "output_type": "stream",
     "text": [
      "index= (1, 0)\n"
     ]
    }
   ],
   "source": [
    "# Câu 4:\n",
    "print('index=',(my_tuple1.index(3),my_tuple2.index(3)))"
   ]
  }
 ],
 "metadata": {
  "kernelspec": {
   "display_name": "base",
   "language": "python",
   "name": "python3"
  },
  "language_info": {
   "codemirror_mode": {
    "name": "ipython",
    "version": 3
   },
   "file_extension": ".py",
   "mimetype": "text/x-python",
   "name": "python",
   "nbconvert_exporter": "python",
   "pygments_lexer": "ipython3",
   "version": "3.11.7"
  }
 },
 "nbformat": 4,
 "nbformat_minor": 2
}
