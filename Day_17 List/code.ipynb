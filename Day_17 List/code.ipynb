{
 "cells": [
  {
   "cell_type": "markdown",
   "metadata": {},
   "source": [
    "Bài 1:"
   ]
  },
  {
   "cell_type": "code",
   "execution_count": 15,
   "metadata": {},
   "outputs": [
    {
     "name": "stdout",
     "output_type": "stream",
     "text": [
      "[[1, 3], [4, 6], [7, 9]]\n"
     ]
    }
   ],
   "source": [
    "lst_data=[[1,2,3],[4,5,6],[7,8,9]]\n",
    "lst_sub_data=[[x[0],x[2]] for x in lst_data]\n",
    "print(lst_sub_data)"
   ]
  },
  {
   "cell_type": "markdown",
   "metadata": {},
   "source": [
    "Bài 2:"
   ]
  },
  {
   "cell_type": "code",
   "execution_count": 1,
   "metadata": {},
   "outputs": [
    {
     "name": "stdout",
     "output_type": "stream",
     "text": [
      "- Tổng: [[3, 6, 9], [5, 8, 11], [8, 8, 10]]\n",
      "- Hiệu: [[-1, -2, -3], [3, 2, 1], [6, 8, 8]]\n",
      "- Dot Product: [[7, 10, 19], [19, 31, 55], [31, 52, 91]]\n"
     ]
    }
   ],
   "source": [
    "mat_a=[[1,2,3],[4,5,6],[7,8,9]]\n",
    "mat_b=[[2,4,6],[1,3,5],[1,0,1]]\n",
    "mat_c=[[mat_a[i][j] + mat_b[i][j] for j in range(len(mat_a[0]))]for i in range(len(mat_a))]\n",
    "mat_d=[[mat_a[i][j] - mat_b[i][j] for j in range(len(mat_a[0]))]for i in range(len(mat_a))]\n",
    "mat_e=[[sum(mat_a[i][k]*mat_b[k][j] for k in range(3)) for j in range(3)] for i in range(3)]\n",
    "\n",
    "print(f\"- Tổng: {mat_c}\")\n",
    "print(f\"- Hiệu: {mat_d}\")\n",
    "print(f\"- Dot Product: {mat_e}\")"
   ]
  }
 ],
 "metadata": {
  "kernelspec": {
   "display_name": "base",
   "language": "python",
   "name": "python3"
  },
  "language_info": {
   "codemirror_mode": {
    "name": "ipython",
    "version": 3
   },
   "file_extension": ".py",
   "mimetype": "text/x-python",
   "name": "python",
   "nbconvert_exporter": "python",
   "pygments_lexer": "ipython3",
   "version": "3.11.7"
  }
 },
 "nbformat": 4,
 "nbformat_minor": 2
}
