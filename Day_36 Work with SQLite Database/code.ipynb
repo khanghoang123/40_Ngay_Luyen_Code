{
 "cells": [
  {
   "cell_type": "code",
   "execution_count": 21,
   "metadata": {},
   "outputs": [],
   "source": [
    "import pandas as pd\n",
    "import sqlite3\n"
   ]
  },
  {
   "cell_type": "code",
   "execution_count": 22,
   "metadata": {},
   "outputs": [],
   "source": [
    "connection=sqlite3.connect('database.sqlite')\n",
    "cursion=connection.cursor()"
   ]
  },
  {
   "cell_type": "code",
   "execution_count": 23,
   "metadata": {},
   "outputs": [],
   "source": [
    "# cursion.execute(\"\"\"\n",
    "#     CREATE TABLE STOCK (\n",
    "#         ID INTEGER PRIMARY KEY,\n",
    "#         NAME TEXT NOT NULL,\n",
    "#         BUY INTEGER NOT NULL,\n",
    "#         INVESTOR TEXT NOT NULL\n",
    "#     );\n",
    "# \"\"\")"
   ]
  },
  {
   "cell_type": "code",
   "execution_count": 24,
   "metadata": {},
   "outputs": [],
   "source": [
    "# cursion.execute(\"\"\"\n",
    "#     INSERT INTO STOCK (ID, NAME, BUY, INVESTOR) VALUES\n",
    "#     ('1','ACB','29.45','Nguyen'),\n",
    "#     ('2','VIC','44.55','Nguyen'),\n",
    "#     ('3','GMD','74.30','Nguyen'),\n",
    "#     ('4','ACB','28.45','Vinh'),\n",
    "#     ('5','VIC','40.55','Vinh'),\n",
    "#     ('6','GMD','60.30','Vinh');\n",
    "# \"\"\")"
   ]
  },
  {
   "cell_type": "code",
   "execution_count": 25,
   "metadata": {},
   "outputs": [],
   "source": [
    "# connection.commit()"
   ]
  },
  {
   "cell_type": "markdown",
   "metadata": {},
   "source": [
    "Câu 1:"
   ]
  },
  {
   "cell_type": "code",
   "execution_count": 29,
   "metadata": {},
   "outputs": [
    {
     "name": "stdout",
     "output_type": "stream",
     "text": [
      "   TOTAL_BUY\n",
      "0      277.6\n"
     ]
    }
   ],
   "source": [
    "query =\"\"\"\n",
    "    SELECT SUM(BUY) AS TOTAL_BUY FROM STOCK;\n",
    "\"\"\"\n",
    "data=pd.read_sql_query(query,connection)\n",
    "print(data)"
   ]
  },
  {
   "cell_type": "markdown",
   "metadata": {},
   "source": [
    "Câu 2:"
   ]
  },
  {
   "cell_type": "code",
   "execution_count": 44,
   "metadata": {},
   "outputs": [
    {
     "name": "stdout",
     "output_type": "stream",
     "text": [
      "  INVESTOR NAME  MAX_PRICE\n",
      "0   Nguyen  GMD       74.3\n",
      "1     Vinh  GMD       60.3\n"
     ]
    }
   ],
   "source": [
    "query=\"\"\"\n",
    "    SELECT INVESTOR, NAME,MAX(BUY) AS MAX_PRICE FROM STOCK GROUP BY INVESTOR;\n",
    "\"\"\"\n",
    "data=pd.read_sql_query(query,connection)\n",
    "print(data)"
   ]
  }
 ],
 "metadata": {
  "kernelspec": {
   "display_name": "Python 3",
   "language": "python",
   "name": "python3"
  },
  "language_info": {
   "codemirror_mode": {
    "name": "ipython",
    "version": 3
   },
   "file_extension": ".py",
   "mimetype": "text/x-python",
   "name": "python",
   "nbconvert_exporter": "python",
   "pygments_lexer": "ipython3",
   "version": "3.11.7"
  }
 },
 "nbformat": 4,
 "nbformat_minor": 2
}
