{
 "cells": [
  {
   "cell_type": "code",
   "execution_count": 30,
   "metadata": {},
   "outputs": [
    {
     "name": "stdout",
     "output_type": "stream",
     "text": [
      "[1, 2, 3, 4, 5, 6, 7, 8, 9, 10]\n",
      "Median :  5.5\n",
      "[9, 7, 5, 3, 1]\n"
     ]
    }
   ],
   "source": [
    "# Câu 1\n",
    "lst_data=[x for x in range(1,11)]\n",
    "print(lst_data)\n",
    "# Câu 2\n",
    "length=len(lst_data)\n",
    "if length%2==0:\n",
    "    print('Median : ',(lst_data[(length-1)//2]+lst_data[length//2])/2)\n",
    "else:\n",
    "    print('Median : ',lst_data[length//2])\n",
    "# Câu 3\n",
    "lst_old_filter=sorted(list(filter(lambda x:x%2!=0,lst_data)),reverse=True)\n",
    "print(lst_old_filter)"
   ]
  }
 ],
 "metadata": {
  "kernelspec": {
   "display_name": "base",
   "language": "python",
   "name": "python3"
  },
  "language_info": {
   "codemirror_mode": {
    "name": "ipython",
    "version": 3
   },
   "file_extension": ".py",
   "mimetype": "text/x-python",
   "name": "python",
   "nbconvert_exporter": "python",
   "pygments_lexer": "ipython3",
   "version": "3.11.7"
  }
 },
 "nbformat": 4,
 "nbformat_minor": 2
}
