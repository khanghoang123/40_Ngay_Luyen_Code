{
 "cells": [
  {
   "cell_type": "code",
   "execution_count": 6,
   "metadata": {},
   "outputs": [
    {
     "name": "stdout",
     "output_type": "stream",
     "text": [
      "[1, 2, 3]\n"
     ]
    }
   ],
   "source": [
    "def function_helper (x , data ) :\n",
    "    for i in data :\n",
    "        if x == i :\n",
    "            return 0\n",
    "    return 1\n",
    "def a_function ( data ) :\n",
    "    res = []\n",
    "    for i in data :\n",
    "        if function_helper (i , res ) :\n",
    "            res . append ( i )\n",
    "    return res\n",
    "lst = [1 , 1 , 2 , 2 , 3]\n",
    "print ( a_function ( lst ) )"
   ]
  }
 ],
 "metadata": {
  "kernelspec": {
   "display_name": "base",
   "language": "python",
   "name": "python3"
  },
  "language_info": {
   "codemirror_mode": {
    "name": "ipython",
    "version": 3
   },
   "file_extension": ".py",
   "mimetype": "text/x-python",
   "name": "python",
   "nbconvert_exporter": "python",
   "pygments_lexer": "ipython3",
   "version": "3.11.7"
  }
 },
 "nbformat": 4,
 "nbformat_minor": 2
}
