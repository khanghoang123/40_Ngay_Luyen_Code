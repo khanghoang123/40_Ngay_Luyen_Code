{
 "cells": [
  {
   "cell_type": "code",
   "execution_count": 95,
   "metadata": {},
   "outputs": [
    {
     "name": "stdout",
     "output_type": "stream",
     "text": [
      "['he', 'who', 'conquers', 'himself', 'is', 'the', 'mightiest', 'warrior', 'try', 'not', 'to', 'become', 'a', 'man', 'of', 'success', 'but', 'rather', 'become', 'a', 'man', 'of', 'value', 'one', 'man', 'with', 'courage', 'makes', 'a', 'majority', 'one', 'secret', 'of', 'success', 'in', 'life', 'is', 'for', 'a', 'man', 'to', 'be', 'ready', 'for', 'his', 'opportunity', 'when', 'it', 'comes', 'the', 'successful', 'man', 'will', 'profit', 'from', 'his', 'mistakes', 'and', 'try', 'again', 'in', 'a', 'different', 'way', 'a', 'successful', 'man', 'is', 'one', 'who', 'can', 'lay', 'a', 'firm', 'foundation', 'with', 'the', 'bricks', 'others', 'have', 'thrown', 'at', 'him', 'success', 'usually', 'comes', 'to', 'those', 'who', 'are', 'too', 'busy', 'looking', 'for', 'it', 'we', 'cannot', 'solve', 'problems', 'with', 'the', 'kind', 'of', 'thinking', 'we', 'employed', 'when', 'we', 'came', 'up', 'with', 'them', 'just', 'one', 'small', 'positive', 'thought', 'in', 'the', 'morning', 'can', 'change', 'your', 'whole', 'day', 'you', 'can', 'get', 'everything', 'in', 'life', 'you', 'want', 'if', 'you', 'will', 'just', 'help', 'enough', 'other', 'people', 'get', 'what', 'they', 'want']\n",
      "\"he\" is least common word with 1 occurrences.\n",
      "\"a\" is most frequent word with 7 occurrences.\n"
     ]
    }
   ],
   "source": [
    "f=open('data.txt','r')\n",
    "data=f.read()\n",
    "data=data.replace('\\n',' ').lower().split(' ')\n",
    "distinct_word=list(set(data))\n",
    "distinct_word.sort()\n",
    "minVal,maxVal=10**18,-10**18\n",
    "min_pos,max_pos='',''\n",
    "\n",
    "f.close()\n"
   ]
  }
 ],
 "metadata": {
  "kernelspec": {
   "display_name": "base",
   "language": "python",
   "name": "python3"
  },
  "language_info": {
   "codemirror_mode": {
    "name": "ipython",
    "version": 3
   },
   "file_extension": ".py",
   "mimetype": "text/x-python",
   "name": "python",
   "nbconvert_exporter": "python",
   "pygments_lexer": "ipython3",
   "version": "3.11.7"
  }
 },
 "nbformat": 4,
 "nbformat_minor": 2
}
